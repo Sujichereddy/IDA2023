{
 "cells": [
  {
   "cell_type": "code",
   "execution_count": 19,
   "id": "01ae7c3f-1b27-4e4e-a51c-b387ebb79368",
   "metadata": {},
   "outputs": [],
   "source": [
    "import numpy as np\n",
    "import pandas as pd"
   ]
  },
  {
   "cell_type": "code",
   "execution_count": 16,
   "id": "92e4f992-8c2a-4fed-aa37-5c8fcc4fe818",
   "metadata": {},
   "outputs": [
    {
     "name": "stdout",
     "output_type": "stream",
     "text": [
      "Requirement already satisfied: numpy in c:\\users\\jk_yo\\appdata\\local\\programs\\python\\python311\\lib\\site-packages (1.26.0)\n"
     ]
    }
   ],
   "source": [
    "!pip install numpy"
   ]
  },
  {
   "cell_type": "code",
   "execution_count": 1,
   "id": "8d0d5e51-3411-48f0-b24b-a7736d8bcd64",
   "metadata": {},
   "outputs": [
    {
     "name": "stdout",
     "output_type": "stream",
     "text": [
      "<class 'list'>\n"
     ]
    }
   ],
   "source": [
    "list = []\n",
    "print(type(list))"
   ]
  },
  {
   "cell_type": "code",
   "execution_count": 2,
   "id": "8b177085-817b-4329-af49-e235a46ae4b1",
   "metadata": {},
   "outputs": [
    {
     "name": "stdout",
     "output_type": "stream",
     "text": [
      "[10, 15, 20.5, True, 'Suji']\n"
     ]
    }
   ],
   "source": [
    "list = [10,15,20.5,True,'Suji'] # list cal allow different data types\n",
    "print(list)"
   ]
  },
  {
   "cell_type": "code",
   "execution_count": 3,
   "id": "aa4253c9-c751-4dbc-a86b-e867195c2e91",
   "metadata": {},
   "outputs": [
    {
     "name": "stdout",
     "output_type": "stream",
     "text": [
      "5\n"
     ]
    }
   ],
   "source": [
    "print(len(list))"
   ]
  },
  {
   "cell_type": "code",
   "execution_count": 8,
   "id": "92cfa0a5-5ed7-4cfc-86d9-607962f25d3a",
   "metadata": {},
   "outputs": [
    {
     "name": "stdout",
     "output_type": "stream",
     "text": [
      "50\n",
      "10\n"
     ]
    }
   ],
   "source": [
    "list1 = [10,20,30,50]\n",
    "print(max(list1))\n",
    "print(min(list1))"
   ]
  },
  {
   "cell_type": "code",
   "execution_count": 9,
   "id": "88972cce-513f-4ef1-bd43-aae23cddcfc6",
   "metadata": {},
   "outputs": [
    {
     "name": "stdout",
     "output_type": "stream",
     "text": [
      "110\n",
      "110\n",
      "27.5\n"
     ]
    }
   ],
   "source": [
    "print(sum(list1))\n",
    "print(sum(list1))\n",
    "print(sum(list1)/len(list1)) "
   ]
  },
  {
   "cell_type": "markdown",
   "id": "d80ae072-02d6-483d-9912-147fa25bca6a",
   "metadata": {},
   "source": [
    "# Operations"
   ]
  },
  {
   "cell_type": "markdown",
   "id": "44f2a475-daec-4fcc-af76-f4b925d4f88d",
   "metadata": {},
   "source": [
    "## Concatination"
   ]
  },
  {
   "cell_type": "code",
   "execution_count": 23,
   "id": "6cbc3ba5-c7d9-4012-8cf2-ef760dd3342a",
   "metadata": {},
   "outputs": [
    {
     "name": "stdout",
     "output_type": "stream",
     "text": [
      "[2, 4, 5, 7, 3.5, 6.7, 5.5, 8.9, 'python', 'Java', True, False]\n"
     ]
    },
    {
     "data": {
      "text/plain": [
       "[2, 4, 5, 7, 3.5, 6.7, 5.5, 8.9, 'python', 'Java', True, False]"
      ]
     },
     "execution_count": 23,
     "metadata": {},
     "output_type": "execute_result"
    }
   ],
   "source": [
    "a = [2,4,5,7] # int\n",
    "b = [3.5,6.7,5.5,8.9] # float\n",
    "c = ['python','Java'] # string\n",
    "d = [True,False] # boolen\n",
    "print(a+b+c+d)\n",
    "a+b+c+d"
   ]
  },
  {
   "cell_type": "markdown",
   "id": "35dd7a27-69e9-4c4c-85f6-995e9989eb97",
   "metadata": {},
   "source": [
    "## Repetition"
   ]
  },
  {
   "cell_type": "code",
   "execution_count": 25,
   "id": "559d965b-f466-44ac-939d-1ba8c67658b3",
   "metadata": {},
   "outputs": [
    {
     "name": "stdout",
     "output_type": "stream",
     "text": [
      "['python', 'Java', 'python', 'Java', 'python', 'Java', 'python', 'Java', 'python', 'Java']\n"
     ]
    }
   ],
   "source": [
    "c = ['python','Java']\n",
    "print(c*5)\n"
   ]
  },
  {
   "cell_type": "markdown",
   "id": "17c794c9-1e79-4bc8-bf06-508c8963498b",
   "metadata": {},
   "source": [
    "## Indexing"
   ]
  },
  {
   "cell_type": "code",
   "execution_count": 29,
   "id": "f470135a-1d83-450e-a335-fab135fbf00d",
   "metadata": {},
   "outputs": [
    {
     "name": "stdout",
     "output_type": "stream",
     "text": [
      "5\n",
      "5\n"
     ]
    }
   ],
   "source": [
    "a = [2,4,5,7]\n",
    "print(a[2])\n",
    "print(a[-2])"
   ]
  },
  {
   "cell_type": "markdown",
   "id": "7033a8ac-7999-4c55-94df-5514c546d2cd",
   "metadata": {},
   "source": [
    "### Slicing"
   ]
  },
  {
   "cell_type": "code",
   "execution_count": 27,
   "id": "214a92f4-50ea-4f46-89cd-24ec99dede82",
   "metadata": {},
   "outputs": [
    {
     "name": "stdout",
     "output_type": "stream",
     "text": [
      "[5, 7]\n"
     ]
    }
   ],
   "source": [
    "a = [2,4,5,7]\n",
    "print(a[2:])"
   ]
  },
  {
   "cell_type": "code",
   "execution_count": 28,
   "id": "0d7089dc-9302-422d-845e-5d4fcc2a46df",
   "metadata": {},
   "outputs": [
    {
     "name": "stdout",
     "output_type": "stream",
     "text": [
      "[2, 5, 9, 5]\n"
     ]
    }
   ],
   "source": [
    "a = [2,4,5,7,9,1,5]\n",
    "print(a[0::2])"
   ]
  },
  {
   "cell_type": "code",
   "execution_count": 31,
   "id": "ac407611-e4da-48b4-b188-8bad1b695ec5",
   "metadata": {},
   "outputs": [
    {
     "name": "stdout",
     "output_type": "stream",
     "text": [
      "['python', 'Java']\n",
      "[False, True, 'Java', 'python', 8.9, 5.5, 6.7, 3.5, 7, 5, 4, 2]\n",
      "[8.9, 'python', 'Java', True, False]\n",
      "[8.9, 'python', 'Java', True]\n"
     ]
    }
   ],
   "source": [
    "list = [2, 4, 5, 7, 3.5, 6.7, 5.5, 8.9, 'python', 'Java', True, False]\n",
    "print(list[8:10])\n",
    "print(list[::-1]) # reverse order list\n",
    "print(list[-5:])\n",
    "print(list[-5:-1])\n"
   ]
  },
  {
   "cell_type": "markdown",
   "id": "572ad201-0e51-4786-a999-dc55dfe344b1",
   "metadata": {},
   "source": [
    "# Methods"
   ]
  },
  {
   "cell_type": "code",
   "execution_count": 32,
   "id": "6410195c-1048-40b8-85bc-5d7b1e5422ae",
   "metadata": {},
   "outputs": [
    {
     "name": "stdout",
     "output_type": "stream",
     "text": [
      "['__add__', '__class__', '__class_getitem__', '__contains__', '__delattr__', '__delitem__', '__dir__', '__doc__', '__eq__', '__format__', '__ge__', '__getattribute__', '__getitem__', '__getstate__', '__gt__', '__hash__', '__iadd__', '__imul__', '__init__', '__init_subclass__', '__iter__', '__le__', '__len__', '__lt__', '__mul__', '__ne__', '__new__', '__reduce__', '__reduce_ex__', '__repr__', '__reversed__', '__rmul__', '__setattr__', '__setitem__', '__sizeof__', '__str__', '__subclasshook__', 'append', 'clear', 'copy', 'count', 'extend', 'index', 'insert', 'pop', 'remove', 'reverse', 'sort']\n"
     ]
    }
   ],
   "source": [
    "# Check how many list methods\n",
    "print(dir(list))"
   ]
  },
  {
   "cell_type": "markdown",
   "id": "4822fba3-37f7-4210-a8e1-d12cbfb73614",
   "metadata": {},
   "source": [
    "### Append"
   ]
  },
  {
   "cell_type": "code",
   "execution_count": 33,
   "id": "e018ae82-602a-498c-9d7b-06b9dc56f845",
   "metadata": {},
   "outputs": [
    {
     "name": "stdout",
     "output_type": "stream",
     "text": [
      "[3, 6, 7, 3.9, True, 'suji', 'Yogi']\n"
     ]
    }
   ],
   "source": [
    "list = [3,6,7,3.9,True,'suji'] # append takes only one argument\n",
    "list.append('Yogi')\n",
    "print(list)"
   ]
  },
  {
   "cell_type": "markdown",
   "id": "21a75b75-bf55-4dbf-a4a4-24c768410938",
   "metadata": {},
   "source": [
    "### Extend"
   ]
  },
  {
   "cell_type": "code",
   "execution_count": 38,
   "id": "5d3bd72d-1b4d-4778-bf01-e72287c042cc",
   "metadata": {},
   "outputs": [
    {
     "name": "stdout",
     "output_type": "stream",
     "text": [
      "[3, 6, 7, 3.9, True, 'suji', 'Yogi', 'Abhi']\n"
     ]
    }
   ],
   "source": [
    "# if you want add more than one argument use Extend\n",
    "list = [3,6,7,3.9,True,'suji']\n",
    "list.extend(['Yogi','Abhi'])\n",
    "print(list)"
   ]
  },
  {
   "cell_type": "markdown",
   "id": "210c5f94-143e-46b6-a5c5-710b4992d214",
   "metadata": {},
   "source": [
    "### Insert"
   ]
  },
  {
   "cell_type": "code",
   "execution_count": 39,
   "id": "3fa627da-0ac4-4591-b8dc-8eb40a6a02b7",
   "metadata": {},
   "outputs": [
    {
     "name": "stdout",
     "output_type": "stream",
     "text": [
      "[3, 6, 7, 'Yogi', 3.9, True, 'suji']\n"
     ]
    }
   ],
   "source": [
    "# if you want to add arguments in specific position then we use Insert\n",
    "list = [3,6,7,3.9,True,'suji']\n",
    "list.insert(3,'Yogi')\n",
    "print(list)"
   ]
  },
  {
   "cell_type": "markdown",
   "id": "6c90317f-bfda-48a0-bce3-6cac20b0d8b7",
   "metadata": {},
   "source": [
    "### Pop"
   ]
  },
  {
   "cell_type": "code",
   "execution_count": 40,
   "id": "b23d5608-fc01-42e7-99c1-444c8b25408a",
   "metadata": {},
   "outputs": [
    {
     "name": "stdout",
     "output_type": "stream",
     "text": [
      "[3, 6, 7, 3.9, True]\n"
     ]
    }
   ],
   "source": [
    "\n",
    "# pop only take index value\n",
    "list = [3,6,7,3.9,True,'suji']\n",
    "list.pop() # remove end of  element by default\n",
    "print(list)"
   ]
  },
  {
   "cell_type": "code",
   "execution_count": 41,
   "id": "8180b8f4-2d8c-44df-a30e-7b3083b76323",
   "metadata": {},
   "outputs": [
    {
     "name": "stdout",
     "output_type": "stream",
     "text": [
      "[3, 7, 3.9, True]\n"
     ]
    }
   ],
   "source": [
    "list.pop(1) # 1 is position  of the element\n",
    "print(list)"
   ]
  },
  {
   "cell_type": "markdown",
   "id": "698f8545-cf13-4936-a2f1-6e649dcfc5ef",
   "metadata": {},
   "source": [
    "### Remove"
   ]
  },
  {
   "cell_type": "code",
   "execution_count": 42,
   "id": "21f8e144-fa34-4ad2-87b2-38d45c061599",
   "metadata": {},
   "outputs": [
    {
     "name": "stdout",
     "output_type": "stream",
     "text": [
      "[6, 7, 3.9, True, 'suji']\n"
     ]
    }
   ],
   "source": [
    "# Remove takes only elements, not  allow index values\n",
    "list = [3,6,7,3.9,True,'suji']\n",
    "list.remove(3) # 3 is the element\n",
    "print(list)"
   ]
  },
  {
   "cell_type": "markdown",
   "id": "0b76f4ec-64ce-47b9-ab37-50c8fef42c2b",
   "metadata": {},
   "source": [
    "### Clear"
   ]
  },
  {
   "cell_type": "code",
   "execution_count": 43,
   "id": "f77efe55-3f46-4954-bf3a-383e51cc8a16",
   "metadata": {},
   "outputs": [
    {
     "name": "stdout",
     "output_type": "stream",
     "text": [
      "[]\n"
     ]
    }
   ],
   "source": [
    "# clear removes all elements from list\n",
    "list = [3,6,7,3.9,True,'suji']\n",
    "list.clear()\n",
    "print(list)"
   ]
  },
  {
   "cell_type": "markdown",
   "id": "a83b5d34-b3dd-4819-8ff6-55a6c584acbb",
   "metadata": {},
   "source": [
    "### Copy"
   ]
  },
  {
   "cell_type": "code",
   "execution_count": 44,
   "id": "c24fc317-07e0-4d54-b299-853b77f90f01",
   "metadata": {},
   "outputs": [
    {
     "name": "stdout",
     "output_type": "stream",
     "text": [
      "[3, 6, 7, 3.9, True, 'suji']\n"
     ]
    }
   ],
   "source": [
    "list = [3,6,7,3.9,True,'suji']\n",
    "list1 = list.copy()\n",
    "print(list1)"
   ]
  },
  {
   "cell_type": "markdown",
   "id": "fc44d37e-04a4-4fda-86bf-14a1f66d1c13",
   "metadata": {},
   "source": [
    "### Count"
   ]
  },
  {
   "cell_type": "code",
   "execution_count": 46,
   "id": "00dda1e4-512f-4883-b6de-c1a8ace10cd8",
   "metadata": {},
   "outputs": [
    {
     "data": {
      "text/plain": [
       "2"
      ]
     },
     "execution_count": 46,
     "metadata": {},
     "output_type": "execute_result"
    }
   ],
   "source": [
    "list = [3,6,7,3.9,True,'suji',6,True]\n",
    "list.count(6)"
   ]
  },
  {
   "cell_type": "code",
   "execution_count": 47,
   "id": "fa8370d2-d3ce-474d-9f1c-22ee003a6d20",
   "metadata": {},
   "outputs": [
    {
     "data": {
      "text/plain": [
       "1"
      ]
     },
     "execution_count": 47,
     "metadata": {},
     "output_type": "execute_result"
    }
   ],
   "source": [
    "list = [3,6,7,3.9,True,'suji',6,True]\n",
    "list.index(6)"
   ]
  },
  {
   "cell_type": "markdown",
   "id": "d73d6521-cc5b-480f-8c87-64e3bbd20ace",
   "metadata": {},
   "source": [
    "### Reverse"
   ]
  },
  {
   "cell_type": "code",
   "execution_count": 48,
   "id": "a6da1204-266a-41e7-9ca7-21b9d71807e8",
   "metadata": {},
   "outputs": [
    {
     "name": "stdout",
     "output_type": "stream",
     "text": [
      "[True, 6, 'suji', True, 3.9, 7, 6, 3]\n"
     ]
    }
   ],
   "source": [
    "list = [3,6,7,3.9,True,'suji',6,True]\n",
    "list.reverse()\n",
    "print(list)"
   ]
  },
  {
   "cell_type": "markdown",
   "id": "a91c4707-b310-4a3f-9cf8-667a61a99560",
   "metadata": {},
   "source": [
    "### Sort"
   ]
  },
  {
   "cell_type": "code",
   "execution_count": 49,
   "id": "1a293e7d-29c1-4530-90c4-45a5b9897eb1",
   "metadata": {},
   "outputs": [
    {
     "name": "stdout",
     "output_type": "stream",
     "text": [
      "[3, 3.9, 6, 6, 7, 36, 77, 100]\n"
     ]
    }
   ],
   "source": [
    "list = [3,6,7,3.9,77,100,6,36]\n",
    "list.sort()# by default assending order\n",
    "print(list)"
   ]
  },
  {
   "cell_type": "code",
   "execution_count": 50,
   "id": "d433a4e7-b52b-4cca-9353-fd1c9cfefe15",
   "metadata": {},
   "outputs": [
    {
     "name": "stdout",
     "output_type": "stream",
     "text": [
      "[100, 77, 36, 7, 6, 6, 3.9, 3]\n"
     ]
    }
   ],
   "source": [
    "list = [3,6,7,3.9,77,100,6,36]\n",
    "list.sort(reverse=True)# dessending order\n",
    "print(list)"
   ]
  },
  {
   "cell_type": "code",
   "execution_count": null,
   "id": "71db8655-ae84-4b04-99b5-a567bb849eb3",
   "metadata": {},
   "outputs": [],
   "source": []
  }
 ],
 "metadata": {
  "kernelspec": {
   "display_name": "Python 3 (ipykernel)",
   "language": "python",
   "name": "python3"
  },
  "language_info": {
   "codemirror_mode": {
    "name": "ipython",
    "version": 3
   },
   "file_extension": ".py",
   "mimetype": "text/x-python",
   "name": "python",
   "nbconvert_exporter": "python",
   "pygments_lexer": "ipython3",
   "version": "3.11.4"
  }
 },
 "nbformat": 4,
 "nbformat_minor": 5
}
